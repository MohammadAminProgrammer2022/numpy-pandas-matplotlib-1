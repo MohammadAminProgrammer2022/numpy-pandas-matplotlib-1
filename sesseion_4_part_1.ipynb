{
 "cells": [
  {
   "cell_type": "markdown",
   "metadata": {},
   "source": [
    "# IN THE NAME OF GOD"
   ]
  },
  {
   "cell_type": "markdown",
   "metadata": {},
   "source": [
    "### Introduction to Numpy and Pandas"
   ]
  },
  {
   "cell_type": "code",
   "execution_count": 7,
   "metadata": {},
   "outputs": [
    {
     "name": "stdout",
     "output_type": "stream",
     "text": [
      "<class 'list'>\n",
      "[1, 2, 3, 4, 5, 6]\n",
      "right way: \n",
      "[5, 7, 9]\n"
     ]
    }
   ],
   "source": [
    "# like string concatenation\n",
    "a = [1, 2, 3]\n",
    "b = [4, 5, 6]\n",
    "c = a + b\n",
    "print(type(c))\n",
    "print(c)\n",
    "print('right way: ')\n",
    "c = []\n",
    "for i in range(len(a)):\n",
    "    c.append(a[i] + b[i])\n",
    "print(c)"
   ]
  },
  {
   "cell_type": "code",
   "execution_count": 8,
   "metadata": {},
   "outputs": [],
   "source": [
    "import numpy as np"
   ]
  },
  {
   "cell_type": "code",
   "execution_count": 30,
   "metadata": {},
   "outputs": [
    {
     "name": "stdout",
     "output_type": "stream",
     "text": [
      "[5 7 9]\n",
      "[-3 -3 -3]\n",
      "[ 4 10 18]\n",
      "[0.25 0.4  0.5 ]\n"
     ]
    }
   ],
   "source": [
    "a = np.array([1, 2, 3])\n",
    "b = np.array([4, 5, 6])\n",
    "add = a + b\n",
    "sub = a - b\n",
    "mul = a * b\n",
    "dev = a / b\n",
    "print(add)\n",
    "print(sub)\n",
    "print(mul)\n",
    "print(dev)"
   ]
  },
  {
   "cell_type": "code",
   "execution_count": 16,
   "metadata": {},
   "outputs": [
    {
     "name": "stdout",
     "output_type": "stream",
     "text": [
      "32\n"
     ]
    }
   ],
   "source": [
    "# ضرب نقطه ای\n",
    "dot = np.dot(a, b)\n",
    "print(dot)"
   ]
  },
  {
   "cell_type": "markdown",
   "metadata": {},
   "source": [
    "تفاوت بین ضرب نقطه ای و ضرب ماتریسی"
   ]
  },
  {
   "cell_type": "code",
   "execution_count": null,
   "metadata": {},
   "outputs": [],
   "source": []
  },
  {
   "cell_type": "markdown",
   "metadata": {},
   "source": [
    "ماتریس صفر"
   ]
  },
  {
   "cell_type": "code",
   "execution_count": 20,
   "metadata": {},
   "outputs": [
    {
     "name": "stdout",
     "output_type": "stream",
     "text": [
      "[[0. 0. 0.]\n",
      " [0. 0. 0.]]\n",
      "6\n"
     ]
    }
   ],
   "source": [
    "z = np.zeros((2,3))\n",
    "print(z)\n",
    "print(z.size)"
   ]
  },
  {
   "cell_type": "markdown",
   "metadata": {},
   "source": [
    "ماتریس یکه\n",
    "عدد به صورت \n",
    "1.\n",
    "یعنی دقیقا یک و اعشار ندارد"
   ]
  },
  {
   "cell_type": "code",
   "execution_count": 21,
   "metadata": {},
   "outputs": [
    {
     "name": "stdout",
     "output_type": "stream",
     "text": [
      "[[1. 1. 1.]\n",
      " [1. 1. 1.]\n",
      " [1. 1. 1.]]\n"
     ]
    }
   ],
   "source": [
    "o = np.ones((3, 3))\n",
    "print(o)"
   ]
  },
  {
   "cell_type": "markdown",
   "metadata": {},
   "source": [
    "دسترسی به یک آرایه خاص در ماتریس"
   ]
  },
  {
   "cell_type": "code",
   "execution_count": 25,
   "metadata": {},
   "outputs": [
    {
     "name": "stdout",
     "output_type": "stream",
     "text": [
      "(2, 3)\n"
     ]
    }
   ],
   "source": [
    "x = np.array([[1, 2, 3], [4, 5, 6]])\n",
    "print(x.shape)"
   ]
  },
  {
   "cell_type": "code",
   "execution_count": 26,
   "metadata": {},
   "outputs": [
    {
     "name": "stdout",
     "output_type": "stream",
     "text": [
      "6\n"
     ]
    }
   ],
   "source": [
    "print(x.size)"
   ]
  },
  {
   "cell_type": "code",
   "execution_count": 27,
   "metadata": {},
   "outputs": [
    {
     "name": "stdout",
     "output_type": "stream",
     "text": [
      "[[1 2]\n",
      " [3 4]\n",
      " [5 6]]\n"
     ]
    }
   ],
   "source": [
    "x1 = x.reshape(3, 2)\n",
    "print(x1)"
   ]
  },
  {
   "cell_type": "code",
   "execution_count": 32,
   "metadata": {},
   "outputs": [
    {
     "name": "stdout",
     "output_type": "stream",
     "text": [
      "[[1]\n",
      " [2]\n",
      " [3]\n",
      " [4]\n",
      " [5]\n",
      " [6]]\n"
     ]
    }
   ],
   "source": [
    "x2 = x.reshape(6, 1)\n",
    "print(x2)"
   ]
  },
  {
   "cell_type": "markdown",
   "metadata": {},
   "source": [
    "میانگین - استاندارد دبییشن - ...\n",
    "\n",
    "در مثال زیر آرایه ای که\n",
    "standard deviation\n",
    "کمتری داشته باشد یعنی داده ها نزدیک مرکز که میانگی است هستند، بهتر است.\n",
    "کلا اگر \n",
    "standard deviation\n",
    "کم باشد خوبه\n",
    "\n",
    "در مثال زیر \n",
    "mean = 3\n",
    "std = 1.41\n",
    "====> 1.5 , 4.5\n",
    "اعداد 1.5 و 4.5 نشاندهنده این هستند که ما در این فاصله بیشترین تجمع داده را داریم."
   ]
  },
  {
   "cell_type": "code",
   "execution_count": 43,
   "metadata": {},
   "outputs": [
    {
     "name": "stdout",
     "output_type": "stream",
     "text": [
      "Data | mean: 3.0 , std: 1.4142135623730951\n",
      "Data1 | mean1: 3.0 , std1: 4.147288270665544\n"
     ]
    }
   ],
   "source": [
    "'''\n",
    "NOTE 1:\n",
    "    To calculate mean: np.mean(arr1)\n",
    "\n",
    "NOTE 2:\n",
    "    To calculate standard deviation: np.std(arr1)\n",
    "'''\n",
    "\n",
    "data = np.array(([1, 2, 3, 4, 5]))\n",
    "# mean\n",
    "m = np.mean(data)\n",
    "# standard deviation\n",
    "std = np.std(data)\n",
    "\n",
    "data1 = np.array([-1, -2, 3, 6, 9])\n",
    "# mean\n",
    "m1 = np.mean(data1)\n",
    "# standard deviation\n",
    "std1 = np.std(data1)\n",
    "\n",
    "print(f\"Data | mean: {m} , std: {std}\")\n",
    "print(f\"Data1 | mean1: {m1} , std1: {std1}\")"
   ]
  },
  {
   "cell_type": "code",
   "execution_count": 46,
   "metadata": {},
   "outputs": [
    {
     "name": "stdout",
     "output_type": "stream",
     "text": [
      "[ 0.84147098  0.90929743  0.14112001 -0.7568025  -0.95892427] \n",
      " [ 0.54030231 -0.41614684 -0.9899925  -0.65364362  0.28366219]\n"
     ]
    }
   ],
   "source": [
    "data = np.array(([1, 2, 3, 4, 5]))\n",
    "\n",
    "sin_data = np.sin(data)\n",
    "cos_data = np.cos(data)\n",
    "print(sin_data, '\\n', cos_data)"
   ]
  },
  {
   "cell_type": "markdown",
   "metadata": {},
   "source": [
    "ضرب ماتریس ها"
   ]
  },
  {
   "cell_type": "code",
   "execution_count": 50,
   "metadata": {},
   "outputs": [
    {
     "name": "stdout",
     "output_type": "stream",
     "text": [
      "[[27 30]\n",
      " [78 87]]\n"
     ]
    }
   ],
   "source": [
    "mat_a = np.array(([1, 2], [4, 5]))\n",
    "mat_b = np.array(([7, 8], [10, 11]))\n",
    "\n",
    "mat_p = np.matmul(mat_a, mat_b)\n",
    "print(mat_p)"
   ]
  },
  {
   "cell_type": "code",
   "execution_count": 51,
   "metadata": {},
   "outputs": [
    {
     "name": "stdout",
     "output_type": "stream",
     "text": [
      "[[2 5 2]\n",
      " [1 6 8]]\n"
     ]
    }
   ],
   "source": [
    "# a real word exampl in matmul\n",
    "a = np.array(([2, 1], [1, 4]))\n",
    "b = np.array(([1, 2, 0], [0, 1, 2]))\n",
    "c = np.matmul(a, b)\n",
    "print(c)"
   ]
  },
  {
   "cell_type": "markdown",
   "metadata": {},
   "source": [
    "محاسبه دترمینال یک ماتریس"
   ]
  },
  {
   "cell_type": "code",
   "execution_count": 53,
   "metadata": {},
   "outputs": [
    {
     "name": "stdout",
     "output_type": "stream",
     "text": [
      "7.000000000000001\n"
     ]
    }
   ],
   "source": [
    "a = np.array(([2, 1], [1, 4]))\n",
    "det_a = np.linalg.det(a)\n",
    "print(det_a)"
   ]
  },
  {
   "cell_type": "markdown",
   "metadata": {},
   "source": [
    "معکوس یک ماتریس"
   ]
  },
  {
   "cell_type": "code",
   "execution_count": 62,
   "metadata": {},
   "outputs": [
    {
     "name": "stdout",
     "output_type": "stream",
     "text": [
      "mat a:\n",
      "[[2 1]\n",
      " [1 4]]\n",
      "\n",
      "inverse\n",
      "[[ 0.57142857 -0.14285714]\n",
      " [-0.14285714  0.28571429]]\n",
      "\n",
      "calculating a * inverse: \n",
      "[[1. 0.]\n",
      " [0. 1.]]\n"
     ]
    }
   ],
   "source": [
    "a = np.array(([2, 1], [1, 4]))\n",
    "print(f\"mat a:\\n{a}\\n\")\n",
    "\n",
    "inverse = np.linalg.inv(a)\n",
    "print('inverse')\n",
    "print(inverse)\n",
    "\n",
    "print('\\ncalculating a * inverse: ')\n",
    "result = np.matmul(a, inverse)\n",
    "print(result)"
   ]
  },
  {
   "cell_type": "markdown",
   "metadata": {},
   "source": [
    "ایجاد ماتریس رندوم با تعداد درایه های دلخواه"
   ]
  },
  {
   "cell_type": "code",
   "execution_count": 84,
   "metadata": {},
   "outputs": [
    {
     "name": "stdout",
     "output_type": "stream",
     "text": [
      "[[0.67773706 0.51148495]\n",
      " [0.8990179  0.01253355]\n",
      " [0.60761243 0.52888481]]\n",
      "[[3.38868532 2.55742476]\n",
      " [4.49508952 0.06266776]\n",
      " [3.03806215 2.64442406]]\n"
     ]
    }
   ],
   "source": [
    "# np.random.rand\n",
    "rand = np.random.rand(3, 2)\n",
    "print(rand)\n",
    "\n",
    "rand *= 5\n",
    "print(rand)"
   ]
  },
  {
   "cell_type": "markdown",
   "metadata": {},
   "source": [
    "ایجاد ماتریس رندوم که درایه های آن نرمال شده اند. این ماتریس توزیع نرمال نام دارد. جمع همه درایه ها با هم صفر است.\n",
    "میانگین ماتریس های نرمال شده صفر است"
   ]
  },
  {
   "cell_type": "code",
   "execution_count": 87,
   "metadata": {},
   "outputs": [
    {
     "name": "stdout",
     "output_type": "stream",
     "text": [
      "[[ 0.11191462 -0.33436603]\n",
      " [ 1.11370043  0.05991373]\n",
      " [ 0.04586364 -1.34897168]]\n",
      "mean: -0.0586575481669955\n"
     ]
    }
   ],
   "source": [
    "# np.rand.randn\n",
    "rand_normal = np.random.randn(3, 2)\n",
    "print(rand_normal)\n",
    "\n",
    "mean = np.mean(rand_normal)\n",
    "print(f'mean: {mean}')"
   ]
  },
  {
   "cell_type": "markdown",
   "metadata": {},
   "source": [
    "شروع کتابخانه\n",
    "\n",
    "pandas"
   ]
  },
  {
   "cell_type": "code",
   "execution_count": 91,
   "metadata": {},
   "outputs": [],
   "source": [
    "import pandas as pd"
   ]
  },
  {
   "cell_type": "code",
   "execution_count": 94,
   "metadata": {},
   "outputs": [
    {
     "name": "stdout",
     "output_type": "stream",
     "text": [
      "    Name  Age     City\n",
      "0  Abbas   25   Tehran\n",
      "1  Akbar   29  Boshehr\n",
      "2  Ahmad   81   Abadan\n"
     ]
    }
   ],
   "source": [
    "data = {\n",
    "        'Name': ['Abbas', 'Akbar', \"Ahmad\"],\n",
    "        'Age': [25, 29, 81],\n",
    "        'City': ['Tehran', 'Boshehr', 'Abadan']\n",
    "        }\n",
    "df = pd.DataFrame(data)\n",
    "print(df)"
   ]
  },
  {
   "cell_type": "code",
   "execution_count": 96,
   "metadata": {},
   "outputs": [
    {
     "name": "stdout",
     "output_type": "stream",
     "text": [
      "<bound method NDFrame.head of     Name  Age     City\n",
      "0  Abbas   25   Tehran\n",
      "1  Akbar   29  Boshehr\n",
      "2  Ahmad   81   Abadan>\n"
     ]
    }
   ],
   "source": [
    "# print some lines and specificly, the head of table\n",
    "print(df.head)"
   ]
  },
  {
   "cell_type": "code",
   "execution_count": 97,
   "metadata": {},
   "outputs": [
    {
     "name": "stdout",
     "output_type": "stream",
     "text": [
      "<bound method DataFrame.info of     Name  Age     City\n",
      "0  Abbas   25   Tehran\n",
      "1  Akbar   29  Boshehr\n",
      "2  Ahmad   81   Abadan>\n"
     ]
    }
   ],
   "source": [
    "print(df.info)"
   ]
  },
  {
   "cell_type": "code",
   "execution_count": 99,
   "metadata": {},
   "outputs": [
    {
     "name": "stdout",
     "output_type": "stream",
     "text": [
      "             Age\n",
      "count   3.000000\n",
      "mean   45.000000\n",
      "std    31.240999\n",
      "min    25.000000\n",
      "25%    27.000000\n",
      "50%    29.000000\n",
      "75%    55.000000\n",
      "max    81.000000\n"
     ]
    }
   ],
   "source": [
    "\n",
    "print(df.describe())"
   ]
  },
  {
   "cell_type": "code",
   "execution_count": 102,
   "metadata": {},
   "outputs": [
    {
     "name": "stdout",
     "output_type": "stream",
     "text": [
      "0    25\n",
      "1    29\n",
      "2    81\n",
      "Name: Age, dtype: int64\n"
     ]
    }
   ],
   "source": [
    "ages = df['Age']\n",
    "print(ages)"
   ]
  },
  {
   "cell_type": "code",
   "execution_count": 105,
   "metadata": {},
   "outputs": [
    {
     "name": "stdout",
     "output_type": "stream",
     "text": [
      "    Name     City\n",
      "0  Abbas   Tehran\n",
      "1  Akbar  Boshehr\n",
      "2  Ahmad   Abadan\n"
     ]
    }
   ],
   "source": [
    "selected = df[['Name', 'City']]\n",
    "print(selected)"
   ]
  },
  {
   "cell_type": "markdown",
   "metadata": {},
   "source": [
    "نمایش یک سطر"
   ]
  },
  {
   "cell_type": "code",
   "execution_count": 108,
   "metadata": {},
   "outputs": [
    {
     "name": "stdout",
     "output_type": "stream",
     "text": [
      "Name      Akbar\n",
      "Age          29\n",
      "City    Boshehr\n",
      "Name: 1, dtype: object\n"
     ]
    }
   ],
   "source": [
    "row1 = df.loc[1]\n",
    "print(row1)"
   ]
  },
  {
   "cell_type": "code",
   "execution_count": null,
   "metadata": {},
   "outputs": [],
   "source": []
  }
 ],
 "metadata": {
  "kernelspec": {
   "display_name": "base",
   "language": "python",
   "name": "python3"
  },
  "language_info": {
   "codemirror_mode": {
    "name": "ipython",
    "version": 3
   },
   "file_extension": ".py",
   "mimetype": "text/x-python",
   "name": "python",
   "nbconvert_exporter": "python",
   "pygments_lexer": "ipython3",
   "version": "3.11.4"
  }
 },
 "nbformat": 4,
 "nbformat_minor": 2
}
